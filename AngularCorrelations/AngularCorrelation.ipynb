{
 "cells": [
  {
   "cell_type": "code",
   "execution_count": 16,
   "id": "6778592a",
   "metadata": {},
   "outputs": [],
   "source": [
    "using StatsPlots, UnROOT, StatsBase, MPSensitivity, CategoricalArrays, Revise\n",
    "using FHist, LaTeXStrings, MPThemes, DataFrames, DataFramesMeta, Distributions, Markdown"
   ]
  },
  {
   "cell_type": "markdown",
   "id": "dfbac9be",
   "metadata": {},
   "source": [
    "Custom functions are placed in the MiscFuncs.jl file."
   ]
  },
  {
   "cell_type": "code",
   "execution_count": 2,
   "id": "edf1390c",
   "metadata": {},
   "outputs": [],
   "source": [
    "include(\"MiscFuncs.jl\")\n",
    "using .MiscFuncs"
   ]
  },
  {
   "cell_type": "code",
   "execution_count": 5,
   "id": "a7fe8de8",
   "metadata": {},
   "outputs": [],
   "source": [
    "plotlyjs()\n",
    "my_vibrant(;\n",
    "    size           = (800, 600),\n",
    "    legend         = :outertopleft,\n",
    "    guidefontsize  = 8,\n",
    "    tickfontsize   = 8,\n",
    "    titlefontsize  = 8,\n",
    "    legendfontsize = 6,\n",
    "    left_margin    = 4Plots.mm,\n",
    "    right_margin   = 4Plots.mm,\n",
    "    top_margin     = 4Plots.mm,\n",
    "    bottom_margin  = 4Plots.mm,\n",
    "    dpi            = 200,\n",
    ");"
   ]
  },
  {
   "cell_type": "code",
   "execution_count": 14,
   "id": "5f9b30e1",
   "metadata": {},
   "outputs": [
    {
     "data": {
      "text/plain": [
       "\"/home/shoram/Work/PhD_Thesis/Job15/AngularCorrelations/\""
      ]
     },
     "metadata": {},
     "output_type": "display_data"
    }
   ],
   "source": [
    "baseDir = \"/home/shoram/Work/PhD_Thesis/Job15/AngularCorrelations/\""
   ]
  },
  {
   "cell_type": "code",
   "execution_count": 11,
   "metadata": {},
   "outputs": [],
   "source": [
    "f = ROOTFile(\n",
    "    baseDir*\"AngularCorrelationAllEnergies96MilEvents.root\",\n",
    ");\n",
    "tree = DataFrame(LazyTree(f, \"tree\", keys(f[\"tree\"])));"
   ]
  },
  {
   "cell_type": "markdown",
   "id": "5ffb1056",
   "metadata": {},
   "source": [
    "### ``@transform`` adds a column ``:ESum`` to the ``tree`` which contains the sum of the electron energies"
   ]
  },
  {
   "cell_type": "code",
   "execution_count": 12,
   "id": "5093b182",
   "metadata": {},
   "outputs": [],
   "source": [
    "@transform! tree :ESum = :reconstructedEnergy2 + :reconstructedEnergy1;\n"
   ]
  },
  {
   "cell_type": "markdown",
   "id": "78c6f737",
   "metadata": {},
   "source": [
    "### Initializing constants."
   ]
  },
  {
   "cell_type": "code",
   "execution_count": 8,
   "id": "9604402e",
   "metadata": {},
   "outputs": [
    {
     "data": {
      "text/plain": [
       "0:1:179"
      ]
     },
     "metadata": {},
     "output_type": "display_data"
    }
   ],
   "source": [
    "\n",
    "dEmitted = 1 # dθdif in degrees\n",
    "nBins    = Int(180 / dEmitted)\n",
    "minAngle = 0\n",
    "maxAngle = 180\n",
    "binWidth = maxAngle / nBins\n",
    "\n",
    "minEnergy = 500\n",
    "maxEnergy = 3500\n",
    "dEnergy   = 500\n",
    "\n",
    "xPts = minAngle:dEmitted:(maxAngle - dEmitted) # x-points for plotting\n"
   ]
  },
  {
   "cell_type": "code",
   "execution_count": 9,
   "id": "1740ba58",
   "metadata": {},
   "outputs": [],
   "source": [
    "labelsEnergy = [\n",
    "    string(\"E ∈ (\", minE, \", \", minE + dEnergy, \" )\") for\n",
    "    minE in minEnergy:dEnergy:(maxEnergy-dEnergy)\n",
    "]\n",
    "\n",
    "labelsAngles = [\n",
    "    string(\"θ ∈ (\", minA, \", \", minA + dEmitted, \" )\") for\n",
    "    minA in minAngle:dEmitted:(maxAngle-dEmitted)\n",
    "]\n",
    "\n",
    "colors = [palette(:seaborn_bright)[i] for i in 1:length(palette(:seaborn_bright))];"
   ]
  },
  {
   "cell_type": "code",
   "execution_count": 17,
   "id": "8dfca0b5",
   "metadata": {},
   "outputs": [],
   "source": [
    "h2d = histogram2d(\n",
    "    tree.thetaEmitted,\n",
    "    tree.thetaEscaped;\n",
    "    nbins        = (nBins, nBins),\n",
    "    xlabel       = \"θemitted -> θ\",\n",
    "    ylabel       = \"θescaped -> ϕ\",\n",
    "    legend       = :topright,\n",
    "    title        = string(\"θesc vs θemit, \", nrow(tree), \" entries\"),\n",
    "    lims         = (0, 180),\n",
    "    aspect_ratio = 1,\n",
    ")\n",
    "savefig(h2d, joinpath(baseDir, string(\"h2d.png\")))"
   ]
  },
  {
   "cell_type": "markdown",
   "id": "bea22916",
   "metadata": {},
   "source": [
    "### The individual stats (``mean, mode, median, variance, efficiency``) are calculated from the vertical slices of ``h2d`` where a slice of ``dθ``. The output is saved in a ``df_stats`` DataFrame which contains the following fiels:\n",
    "1. \"minThetaEmitted\"\n",
    "2. \"maxThetaEmitted\"\n",
    "3. \"minE\"\n",
    "4. \"maxE\"\n",
    "5. \"mean\"\n",
    "6. \"mode\"\n",
    "7. \"median\"\n",
    "8. \"variance\"\n",
    "9. \"escEfficiency\" "
   ]
  },
  {
   "cell_type": "code",
   "execution_count": 18,
   "id": "7f94e911",
   "metadata": {},
   "outputs": [
    {
     "data": {
      "text/html": [
       "<div class=\"data-frame\"><p>0 rows × 9 columns</p><table class=\"data-frame\"><thead><tr><th></th><th>minThetaEmitted</th><th>maxThetaEmitted</th><th>minE</th><th>maxE</th><th>mean</th><th>mode</th><th>median</th><th>variance</th><th>escEfficiency</th></tr><tr><th></th><th title=\"Real\">Real</th><th title=\"Real\">Real</th><th title=\"Real\">Real</th><th title=\"Real\">Real</th><th title=\"Real\">Real</th><th title=\"Real\">Real</th><th title=\"Real\">Real</th><th title=\"Real\">Real</th><th title=\"Real\">Real</th></tr></thead><tbody></tbody></table></div>"
      ],
      "text/latex": [
       "\\begin{tabular}{r|ccccccccc}\n",
       "\t& minThetaEmitted & maxThetaEmitted & minE & maxE & mean & mode & median & variance & escEfficiency\\\\\n",
       "\t\\hline\n",
       "\t& Real & Real & Real & Real & Real & Real & Real & Real & Real\\\\\n",
       "\t\\hline\n",
       "\\end{tabular}\n"
      ],
      "text/plain": [
       "\u001b[1m0×9 DataFrame\u001b[0m"
      ]
     },
     "metadata": {},
     "output_type": "display_data"
    }
   ],
   "source": [
    "df_stats = DataFrame(;\n",
    "    minThetaEmitted = Real[],\n",
    "    maxThetaEmitted = Real[],\n",
    "    minE = Real[],\n",
    "    maxE = Real[],\n",
    "    mean = Real[],\n",
    "    mode = Real[],\n",
    "    median = Real[],\n",
    "    variance = Real[],\n",
    "    escEfficiency = Real[],\n",
    ")\n"
   ]
  },
  {
   "cell_type": "code",
   "execution_count": 19,
   "id": "504c6e4c",
   "metadata": {},
   "outputs": [],
   "source": [
    "for minThetaEmitted in minAngle:dEmitted:(maxAngle - dEmitted)  # for loop over emitted slices, the size of slize is determined by dEmitted \n",
    "    maxThetaEmitted = minThetaEmitted + dEmitted\n",
    "\n",
    "    for minE in minEnergy:dEnergy:(maxEnergy - dEnergy)     # for loop over energy slices of the sum of energies \n",
    "        maxE = minE + dEnergy\n",
    "\n",
    "        push!(\n",
    "            df_stats,\n",
    "            get_slice_stats(minThetaEmitted, maxThetaEmitted, minE, maxE, tree, binWidth),\n",
    "        )\n",
    "    end\n",
    "end"
   ]
  },
  {
   "cell_type": "code",
   "execution_count": null,
   "id": "244d3d4f",
   "metadata": {},
   "outputs": [],
   "source": []
  }
 ],
 "metadata": {
  "kernelspec": {
   "display_name": "Julia 1.6.1",
   "language": "julia",
   "name": "julia-1.6"
  },
  "language_info": {
   "file_extension": ".jl",
   "mimetype": "application/julia",
   "name": "julia",
   "version": "1.6.1"
  }
 },
 "nbformat": 4,
 "nbformat_minor": 5
}
